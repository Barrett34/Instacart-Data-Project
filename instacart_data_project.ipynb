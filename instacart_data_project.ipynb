{
 "cells": [
  {
   "cell_type": "markdown",
   "id": "34ab0faa",
   "metadata": {},
   "source": [
    "# Sprint 2 Instacart Data Project\n",
    "\n",
    "For this project, we are working with a dataset from 2017 released by Instacart. Instacart is a grocery delivery platform where customers can order groceries and have it delivered to their homes.\n",
    "\n",
    "We will filter through and clean the data, removing duplicates and replacing missing values in each dataframe that we will create from the provided csv files filled with data."
   ]
  },
  {
   "cell_type": "code",
   "execution_count": 1,
   "id": "fbf1adab",
   "metadata": {},
   "outputs": [],
   "source": [
    "import pandas as pd"
   ]
  },
  {
   "cell_type": "code",
   "execution_count": 2,
   "id": "ad36396d",
   "metadata": {},
   "outputs": [
    {
     "data": {
      "text/html": [
       "<div>\n",
       "<style scoped>\n",
       "    .dataframe tbody tr th:only-of-type {\n",
       "        vertical-align: middle;\n",
       "    }\n",
       "\n",
       "    .dataframe tbody tr th {\n",
       "        vertical-align: top;\n",
       "    }\n",
       "\n",
       "    .dataframe thead th {\n",
       "        text-align: right;\n",
       "    }\n",
       "</style>\n",
       "<table border=\"1\" class=\"dataframe\">\n",
       "  <thead>\n",
       "    <tr style=\"text-align: right;\">\n",
       "      <th></th>\n",
       "      <th>order_id</th>\n",
       "      <th>user_id</th>\n",
       "      <th>order_number</th>\n",
       "      <th>order_dow</th>\n",
       "      <th>order_hour_of_day</th>\n",
       "      <th>days_since_prior_order</th>\n",
       "    </tr>\n",
       "  </thead>\n",
       "  <tbody>\n",
       "    <tr>\n",
       "      <th>130585</th>\n",
       "      <td>3098338</td>\n",
       "      <td>193351</td>\n",
       "      <td>29</td>\n",
       "      <td>3</td>\n",
       "      <td>18</td>\n",
       "      <td>10.0</td>\n",
       "    </tr>\n",
       "    <tr>\n",
       "      <th>136176</th>\n",
       "      <td>3276426</td>\n",
       "      <td>136170</td>\n",
       "      <td>1</td>\n",
       "      <td>4</td>\n",
       "      <td>8</td>\n",
       "      <td>NaN</td>\n",
       "    </tr>\n",
       "    <tr>\n",
       "      <th>426359</th>\n",
       "      <td>2055419</td>\n",
       "      <td>122221</td>\n",
       "      <td>4</td>\n",
       "      <td>2</td>\n",
       "      <td>13</td>\n",
       "      <td>30.0</td>\n",
       "    </tr>\n",
       "    <tr>\n",
       "      <th>290568</th>\n",
       "      <td>588930</td>\n",
       "      <td>89841</td>\n",
       "      <td>18</td>\n",
       "      <td>5</td>\n",
       "      <td>16</td>\n",
       "      <td>5.0</td>\n",
       "    </tr>\n",
       "    <tr>\n",
       "      <th>289273</th>\n",
       "      <td>871565</td>\n",
       "      <td>200581</td>\n",
       "      <td>19</td>\n",
       "      <td>5</td>\n",
       "      <td>11</td>\n",
       "      <td>27.0</td>\n",
       "    </tr>\n",
       "    <tr>\n",
       "      <th>229682</th>\n",
       "      <td>3254971</td>\n",
       "      <td>65373</td>\n",
       "      <td>9</td>\n",
       "      <td>3</td>\n",
       "      <td>8</td>\n",
       "      <td>9.0</td>\n",
       "    </tr>\n",
       "    <tr>\n",
       "      <th>286584</th>\n",
       "      <td>740815</td>\n",
       "      <td>128376</td>\n",
       "      <td>8</td>\n",
       "      <td>2</td>\n",
       "      <td>20</td>\n",
       "      <td>8.0</td>\n",
       "    </tr>\n",
       "    <tr>\n",
       "      <th>15013</th>\n",
       "      <td>1943234</td>\n",
       "      <td>113432</td>\n",
       "      <td>92</td>\n",
       "      <td>4</td>\n",
       "      <td>8</td>\n",
       "      <td>3.0</td>\n",
       "    </tr>\n",
       "    <tr>\n",
       "      <th>65161</th>\n",
       "      <td>1265646</td>\n",
       "      <td>159829</td>\n",
       "      <td>5</td>\n",
       "      <td>0</td>\n",
       "      <td>17</td>\n",
       "      <td>30.0</td>\n",
       "    </tr>\n",
       "    <tr>\n",
       "      <th>459761</th>\n",
       "      <td>214710</td>\n",
       "      <td>18737</td>\n",
       "      <td>6</td>\n",
       "      <td>2</td>\n",
       "      <td>6</td>\n",
       "      <td>7.0</td>\n",
       "    </tr>\n",
       "  </tbody>\n",
       "</table>\n",
       "</div>"
      ],
      "text/plain": [
       "        order_id  user_id  order_number  order_dow  order_hour_of_day  \\\n",
       "130585   3098338   193351            29          3                 18   \n",
       "136176   3276426   136170             1          4                  8   \n",
       "426359   2055419   122221             4          2                 13   \n",
       "290568    588930    89841            18          5                 16   \n",
       "289273    871565   200581            19          5                 11   \n",
       "229682   3254971    65373             9          3                  8   \n",
       "286584    740815   128376             8          2                 20   \n",
       "15013    1943234   113432            92          4                  8   \n",
       "65161    1265646   159829             5          0                 17   \n",
       "459761    214710    18737             6          2                  6   \n",
       "\n",
       "        days_since_prior_order  \n",
       "130585                    10.0  \n",
       "136176                     NaN  \n",
       "426359                    30.0  \n",
       "290568                     5.0  \n",
       "289273                    27.0  \n",
       "229682                     9.0  \n",
       "286584                     8.0  \n",
       "15013                      3.0  \n",
       "65161                     30.0  \n",
       "459761                     7.0  "
      ]
     },
     "execution_count": 2,
     "metadata": {},
     "output_type": "execute_result"
    }
   ],
   "source": [
    "df_instacart_orders = pd.read_csv('/datasets/instacart_orders.csv', sep=';')\n",
    "df_instacart_orders.sample(10)\n",
    "# We will assume that the order_dow column orders the days of the week from 0-6 with Sunday being 0 and Saturday being 6\n",
    "# We will assume that the order_hour_of_day also represents a 24 hour range, with 0 representing 12:00AM and 23 representing 11:00PM"
   ]
  },
  {
   "cell_type": "code",
   "execution_count": 3,
   "id": "ad6a1efa",
   "metadata": {},
   "outputs": [
    {
     "name": "stdout",
     "output_type": "stream",
     "text": [
      "<class 'pandas.core.frame.DataFrame'>\n",
      "RangeIndex: 49694 entries, 0 to 49693\n",
      "Data columns (total 4 columns):\n",
      " #   Column         Non-Null Count  Dtype \n",
      "---  ------         --------------  ----- \n",
      " 0   product_id     49694 non-null  int64 \n",
      " 1   product_name   48436 non-null  object\n",
      " 2   aisle_id       49694 non-null  int64 \n",
      " 3   department_id  49694 non-null  int64 \n",
      "dtypes: int64(3), object(1)\n",
      "memory usage: 1.5+ MB\n"
     ]
    }
   ],
   "source": [
    "df_products = pd.read_csv('/datasets/products.csv',sep=';')\n",
    "df_products.sample(10)\n",
    "df_products.info()"
   ]
  },
  {
   "cell_type": "code",
   "execution_count": 4,
   "id": "5130e05e",
   "metadata": {},
   "outputs": [
    {
     "name": "stdout",
     "output_type": "stream",
     "text": [
      "<class 'pandas.core.frame.DataFrame'>\n",
      "RangeIndex: 4545007 entries, 0 to 4545006\n",
      "Data columns (total 4 columns):\n",
      " #   Column             Non-Null Count    Dtype  \n",
      "---  ------             --------------    -----  \n",
      " 0   order_id           4545007 non-null  int64  \n",
      " 1   product_id         4545007 non-null  int64  \n",
      " 2   add_to_cart_order  4544171 non-null  float64\n",
      " 3   reordered          4545007 non-null  int64  \n",
      "dtypes: float64(1), int64(3)\n",
      "memory usage: 138.7 MB\n"
     ]
    }
   ],
   "source": [
    "df_order_products = pd.read_csv('/datasets/order_products.csv', sep=';')\n",
    "df_order_products.info(show_counts=True)"
   ]
  },
  {
   "cell_type": "code",
   "execution_count": 5,
   "id": "d8370c05",
   "metadata": {},
   "outputs": [
    {
     "name": "stdout",
     "output_type": "stream",
     "text": [
      "<class 'pandas.core.frame.DataFrame'>\n",
      "RangeIndex: 134 entries, 0 to 133\n",
      "Data columns (total 2 columns):\n",
      " #   Column    Non-Null Count  Dtype \n",
      "---  ------    --------------  ----- \n",
      " 0   aisle_id  134 non-null    int64 \n",
      " 1   aisle     134 non-null    object\n",
      "dtypes: int64(1), object(1)\n",
      "memory usage: 2.2+ KB\n"
     ]
    }
   ],
   "source": [
    "df_aisles = pd.read_csv('/datasets/aisles.csv', sep=';')\n",
    "df_aisles.info()"
   ]
  },
  {
   "cell_type": "code",
   "execution_count": 6,
   "id": "59e2090f",
   "metadata": {},
   "outputs": [
    {
     "name": "stdout",
     "output_type": "stream",
     "text": [
      "<class 'pandas.core.frame.DataFrame'>\n",
      "RangeIndex: 21 entries, 0 to 20\n",
      "Data columns (total 2 columns):\n",
      " #   Column         Non-Null Count  Dtype \n",
      "---  ------         --------------  ----- \n",
      " 0   department_id  21 non-null     int64 \n",
      " 1   department     21 non-null     object\n",
      "dtypes: int64(1), object(1)\n",
      "memory usage: 464.0+ bytes\n"
     ]
    }
   ],
   "source": [
    "df_departments = pd.read_csv('/datasets/departments.csv', sep=';')\n",
    "df_departments.info()"
   ]
  },
  {
   "cell_type": "markdown",
   "id": "07357848-dc64-4156-9cc3-01ff4365226d",
   "metadata": {},
   "source": [
    "## Find and remove duplicate values (and describe why you make your choices)"
   ]
  },
  {
   "cell_type": "markdown",
   "id": "f179f0a9",
   "metadata": {},
   "source": [
    "### `orders` data frame"
   ]
  },
  {
   "cell_type": "code",
   "execution_count": 7,
   "id": "b99297a5-405a-463d-8535-9adc3da4ad74",
   "metadata": {},
   "outputs": [
    {
     "data": {
      "text/plain": [
       "15"
      ]
     },
     "execution_count": 7,
     "metadata": {},
     "output_type": "execute_result"
    }
   ],
   "source": [
    "# Check for duplicated orders\n",
    "df_instacart_orders.duplicated().sum()\n"
   ]
  },
  {
   "cell_type": "code",
   "execution_count": 8,
   "id": "0d44de5d",
   "metadata": {},
   "outputs": [
    {
     "data": {
      "text/plain": [
       "15"
      ]
     },
     "execution_count": 8,
     "metadata": {},
     "output_type": "execute_result"
    }
   ],
   "source": [
    "# Check for all orders placed Wednesday at 2:00 AM\n",
    "df_filtered_wed_orders = df_instacart_orders[(df_instacart_orders['order_dow'] == 3) & (df_instacart_orders['order_hour_of_day'] == 2)]\n",
    "df_filtered_wed_orders.duplicated().sum()\n"
   ]
  },
  {
   "cell_type": "code",
   "execution_count": 9,
   "id": "480563c7",
   "metadata": {},
   "outputs": [],
   "source": [
    "# Remove duplicate orders\n",
    "df_instacart_orders = df_instacart_orders.drop_duplicates()"
   ]
  },
  {
   "cell_type": "code",
   "execution_count": 10,
   "id": "0b2396a2",
   "metadata": {},
   "outputs": [
    {
     "data": {
      "text/plain": [
       "0"
      ]
     },
     "execution_count": 10,
     "metadata": {},
     "output_type": "execute_result"
    }
   ],
   "source": [
    "# Double check for duplicate rows\n",
    "df_instacart_orders.duplicated().sum()"
   ]
  },
  {
   "cell_type": "code",
   "execution_count": 11,
   "id": "f6113ef1",
   "metadata": {},
   "outputs": [
    {
     "data": {
      "text/plain": [
       "0"
      ]
     },
     "execution_count": 11,
     "metadata": {},
     "output_type": "execute_result"
    }
   ],
   "source": [
    "# Double check for duplicate order IDs only\n",
    "df_instacart_orders['order_id'].duplicated().sum()"
   ]
  },
  {
   "cell_type": "markdown",
   "id": "5e8905ae",
   "metadata": {},
   "source": [
    "If we follow our previous assumptions for the order_dow and order_hour_of_day columns, we can use logical comparisons to filter our data to check for all orders placed on Wednesday at 2:00AM .order_dow values that = 3 (Wed.) and order_hour_of_day values that = 2 (2:00AM). When we run the duplicate().sum() methods, it shows us that all our duplicated orders happened on this day and at this specific time of Wednesday 2:00AM because it matches with the same method call on our unfilitered dataframe for instacart_orders.\n",
    "\n",
    "Now that we now that all of our duplicates happened on Wednesday at 2:00AM when can safely remove the duplicate orders using drop_duplicates() method on the instacart_orders dataframe and double check it by running duplicates().sum() on the order_id column to make sure there aren't anymore duplicate orders in our dataframe."
   ]
  },
  {
   "cell_type": "markdown",
   "id": "45e6bc46",
   "metadata": {},
   "source": [
    "### `products` data frame"
   ]
  },
  {
   "cell_type": "code",
   "execution_count": 12,
   "id": "5f526b5b-8175-46fa-a0fd-441767d50e64",
   "metadata": {},
   "outputs": [
    {
     "data": {
      "text/plain": [
       "0"
      ]
     },
     "execution_count": 12,
     "metadata": {},
     "output_type": "execute_result"
    }
   ],
   "source": [
    "# Check for fully duplicate rows\n",
    "df_products.duplicated().sum()"
   ]
  },
  {
   "cell_type": "code",
   "execution_count": 13,
   "id": "88daa4f4",
   "metadata": {},
   "outputs": [
    {
     "data": {
      "text/plain": [
       "0"
      ]
     },
     "execution_count": 13,
     "metadata": {},
     "output_type": "execute_result"
    }
   ],
   "source": [
    "# Check for just duplicate product IDs\n",
    "df_products['product_id'].duplicated().sum()"
   ]
  },
  {
   "cell_type": "code",
   "execution_count": 14,
   "id": "c773f0bf",
   "metadata": {},
   "outputs": [
    {
     "data": {
      "text/plain": [
       "1361"
      ]
     },
     "execution_count": 14,
     "metadata": {},
     "output_type": "execute_result"
    }
   ],
   "source": [
    "# Check for just duplicate product names (convert names to lowercase to compare better)\n",
    "df_products['product_name'] = df_products['product_name'].str.lower()\n",
    "df_products['product_name'].duplicated().sum()"
   ]
  },
  {
   "cell_type": "code",
   "execution_count": 15,
   "id": "01efd02e",
   "metadata": {},
   "outputs": [
    {
     "name": "stdout",
     "output_type": "stream",
     "text": [
      "<class 'pandas.core.frame.DataFrame'>\n",
      "Int64Index: 104 entries, 2058 to 49693\n",
      "Data columns (total 4 columns):\n",
      " #   Column         Non-Null Count  Dtype \n",
      "---  ------         --------------  ----- \n",
      " 0   product_id     104 non-null    int64 \n",
      " 1   product_name   104 non-null    object\n",
      " 2   aisle_id       104 non-null    int64 \n",
      " 3   department_id  104 non-null    int64 \n",
      "dtypes: int64(3), object(1)\n",
      "memory usage: 4.1+ KB\n",
      "None\n"
     ]
    }
   ],
   "source": [
    "# Check for duplicate product names that aren't missing\n",
    "product_names_not_missing = df_products[~(df_products['product_name'].isna()) & (df_products['product_name'].str.lower().duplicated())]\n",
    "print(product_names_not_missing.info())"
   ]
  },
  {
   "cell_type": "markdown",
   "id": "9da8d293",
   "metadata": {},
   "source": [
    "For the products dataframe, we check for any rows that have all of the same column values. When then check to see if there are any products that share the same ID. Next we check to see if there are products with the same product name. It turns out that we have 1361 product IDs with the same product name. Lastly, we check to see if we have any product names that are duplicate that do not have missing values."
   ]
  },
  {
   "cell_type": "markdown",
   "id": "60f30db1",
   "metadata": {},
   "source": [
    "### `departments` data frame"
   ]
  },
  {
   "cell_type": "code",
   "execution_count": 16,
   "id": "fb410ad4-0fbf-4b80-bb09-23fdea79afe3",
   "metadata": {},
   "outputs": [
    {
     "data": {
      "text/plain": [
       "0"
      ]
     },
     "execution_count": 16,
     "metadata": {},
     "output_type": "execute_result"
    }
   ],
   "source": [
    "#Check for duplicate departments IDs\n",
    "df_departments['department_id'].duplicated().sum()"
   ]
  },
  {
   "cell_type": "code",
   "execution_count": 17,
   "id": "332b12bb",
   "metadata": {},
   "outputs": [
    {
     "data": {
      "text/plain": [
       "0"
      ]
     },
     "execution_count": 17,
     "metadata": {},
     "output_type": "execute_result"
    }
   ],
   "source": [
    "#Check for duplicate departments\n",
    "df_departments['department'].duplicated().sum()"
   ]
  },
  {
   "cell_type": "markdown",
   "id": "bd30d78e",
   "metadata": {},
   "source": [
    "Here I checked if there were any duplicated departments ids and did another check for duplicated department names. Both luckily returned no duplicated data."
   ]
  },
  {
   "cell_type": "markdown",
   "id": "889349c1",
   "metadata": {},
   "source": [
    "### `aisles` data frame"
   ]
  },
  {
   "cell_type": "code",
   "execution_count": 18,
   "id": "9da89fb9-4679-40f5-ad0d-c34df753a3f8",
   "metadata": {},
   "outputs": [
    {
     "data": {
      "text/plain": [
       "0"
      ]
     },
     "execution_count": 18,
     "metadata": {},
     "output_type": "execute_result"
    }
   ],
   "source": [
    "# Check for duplicate aisle IDs\n",
    "df_aisles['aisle_id'].duplicated().sum()"
   ]
  },
  {
   "cell_type": "code",
   "execution_count": 19,
   "id": "da7c2822",
   "metadata": {},
   "outputs": [
    {
     "data": {
      "text/plain": [
       "0"
      ]
     },
     "execution_count": 19,
     "metadata": {},
     "output_type": "execute_result"
    }
   ],
   "source": [
    "# Check for duplicate aisle names\n",
    "df_aisles['aisle'].duplicated().sum()"
   ]
  },
  {
   "cell_type": "markdown",
   "id": "ac63826f",
   "metadata": {},
   "source": [
    "Here I checked if there were any duplicated aisle IDs and did another check for duplicated aisle names. The aisles dataframe also returned no duplicated data."
   ]
  },
  {
   "cell_type": "markdown",
   "id": "274cd06a",
   "metadata": {},
   "source": [
    "### `order_products` data frame"
   ]
  },
  {
   "cell_type": "code",
   "execution_count": 20,
   "id": "52326689-84a8-4b8f-a881-7c68780f62c9",
   "metadata": {},
   "outputs": [
    {
     "data": {
      "text/plain": [
       "0"
      ]
     },
     "execution_count": 20,
     "metadata": {},
     "output_type": "execute_result"
    }
   ],
   "source": [
    "# Check for fully duplicate rows\n",
    "df_order_products.duplicated().sum()"
   ]
  },
  {
   "cell_type": "code",
   "execution_count": 21,
   "id": "7b861391",
   "metadata": {},
   "outputs": [
    {
     "name": "stdout",
     "output_type": "stream",
     "text": [
      "Empty DataFrame\n",
      "Columns: [order_id, product_id, add_to_cart_order, reordered]\n",
      "Index: []\n"
     ]
    }
   ],
   "source": [
    "# Double check for any other tricky duplicates\n",
    "duplicates = df_order_products.duplicated(subset=['order_id', 'product_id'], keep=False)\n",
    "df_order_products[duplicates].sort_values(by=['order_id', 'product_id'])\n",
    "print(df_order_products[duplicates])"
   ]
  },
  {
   "cell_type": "markdown",
   "id": "0b890492",
   "metadata": {},
   "source": [
    "He I checked for not only duplicated rows, but also used the subset parameter to check for tricky duplicates that may not appear by the method ran for checking for fully duplicated rows. The subset parameter allows us to check for partial duplicates as well."
   ]
  },
  {
   "cell_type": "markdown",
   "id": "1e46de76",
   "metadata": {},
   "source": [
    "## Find and remove missing values\n"
   ]
  },
  {
   "cell_type": "markdown",
   "id": "c0aebd78",
   "metadata": {},
   "source": [
    "### `products` data frame"
   ]
  },
  {
   "cell_type": "code",
   "execution_count": 22,
   "id": "fe4a8b0f",
   "metadata": {},
   "outputs": [
    {
     "data": {
      "text/plain": [
       "product_id          0\n",
       "product_name     1258\n",
       "aisle_id            0\n",
       "department_id       0\n",
       "dtype: int64"
      ]
     },
     "execution_count": 22,
     "metadata": {},
     "output_type": "execute_result"
    }
   ],
   "source": [
    "df_products.isna().sum()"
   ]
  },
  {
   "cell_type": "code",
   "execution_count": 23,
   "id": "e96167bc",
   "metadata": {},
   "outputs": [
    {
     "data": {
      "text/plain": [
       "product_id       1258\n",
       "product_name        0\n",
       "aisle_id         1258\n",
       "department_id    1258\n",
       "dtype: int64"
      ]
     },
     "execution_count": 23,
     "metadata": {},
     "output_type": "execute_result"
    }
   ],
   "source": [
    "# Are all of the missing product names associated with aisle ID 100?\n",
    "df_products.query('product_name != product_name and aisle_id == 100').count()"
   ]
  },
  {
   "cell_type": "code",
   "execution_count": 24,
   "id": "8fd0a541",
   "metadata": {},
   "outputs": [
    {
     "data": {
      "text/plain": [
       "product_id       1258\n",
       "product_name        0\n",
       "aisle_id         1258\n",
       "department_id    1258\n",
       "dtype: int64"
      ]
     },
     "execution_count": 24,
     "metadata": {},
     "output_type": "execute_result"
    }
   ],
   "source": [
    "# Are all of the missing product names associated with department ID 21?\n",
    "df_products.query('product_name != product_name and department_id == 21').count()"
   ]
  },
  {
   "cell_type": "code",
   "execution_count": 25,
   "id": "325c3464",
   "metadata": {},
   "outputs": [
    {
     "name": "stdout",
     "output_type": "stream",
     "text": [
      "112\n",
      "11\n",
      "99    missing\n",
      "Name: aisle, dtype: object\n",
      "20    missing\n",
      "Name: department, dtype: object\n"
     ]
    }
   ],
   "source": [
    "# What is this ailse and department?\n",
    "print(df_products.loc[100, 'aisle_id'])\n",
    "print(df_products.loc[21, 'department_id'])\n",
    "aisle_name = df_aisles[df_aisles['aisle_id'] == 100]['aisle']\n",
    "department_name = df_departments[df_departments['department_id'] == 21]['department']\n",
    "print(aisle_name)\n",
    "print(department_name)"
   ]
  },
  {
   "cell_type": "code",
   "execution_count": 26,
   "id": "6b295120",
   "metadata": {},
   "outputs": [
    {
     "data": {
      "text/html": [
       "<div>\n",
       "<style scoped>\n",
       "    .dataframe tbody tr th:only-of-type {\n",
       "        vertical-align: middle;\n",
       "    }\n",
       "\n",
       "    .dataframe tbody tr th {\n",
       "        vertical-align: top;\n",
       "    }\n",
       "\n",
       "    .dataframe thead th {\n",
       "        text-align: right;\n",
       "    }\n",
       "</style>\n",
       "<table border=\"1\" class=\"dataframe\">\n",
       "  <thead>\n",
       "    <tr style=\"text-align: right;\">\n",
       "      <th></th>\n",
       "      <th>product_id</th>\n",
       "      <th>product_name</th>\n",
       "      <th>aisle_id</th>\n",
       "      <th>department_id</th>\n",
       "    </tr>\n",
       "  </thead>\n",
       "  <tbody>\n",
       "    <tr>\n",
       "      <th>20724</th>\n",
       "      <td>20725</td>\n",
       "      <td>Unknown</td>\n",
       "      <td>100</td>\n",
       "      <td>21</td>\n",
       "    </tr>\n",
       "    <tr>\n",
       "      <th>16542</th>\n",
       "      <td>16543</td>\n",
       "      <td>Unknown</td>\n",
       "      <td>100</td>\n",
       "      <td>21</td>\n",
       "    </tr>\n",
       "    <tr>\n",
       "      <th>48662</th>\n",
       "      <td>48663</td>\n",
       "      <td>Unknown</td>\n",
       "      <td>100</td>\n",
       "      <td>21</td>\n",
       "    </tr>\n",
       "    <tr>\n",
       "      <th>30180</th>\n",
       "      <td>30181</td>\n",
       "      <td>Unknown</td>\n",
       "      <td>100</td>\n",
       "      <td>21</td>\n",
       "    </tr>\n",
       "    <tr>\n",
       "      <th>37855</th>\n",
       "      <td>37856</td>\n",
       "      <td>Unknown</td>\n",
       "      <td>100</td>\n",
       "      <td>21</td>\n",
       "    </tr>\n",
       "  </tbody>\n",
       "</table>\n",
       "</div>"
      ],
      "text/plain": [
       "       product_id product_name  aisle_id  department_id\n",
       "20724       20725      Unknown       100             21\n",
       "16542       16543      Unknown       100             21\n",
       "48662       48663      Unknown       100             21\n",
       "30180       30181      Unknown       100             21\n",
       "37855       37856      Unknown       100             21"
      ]
     },
     "execution_count": 26,
     "metadata": {},
     "output_type": "execute_result"
    }
   ],
   "source": [
    "# Fill missing product names with 'Unknown'\n",
    "df_products['product_name'].fillna(value='Unknown', inplace=True)\n",
    "df_products.query(\"product_name == 'Unknown'\") .sample(5)"
   ]
  },
  {
   "cell_type": "markdown",
   "id": "fc70e5ad",
   "metadata": {},
   "source": [
    "Here we check for missing values in the entire products dataframe by using the isna() method and sum them all up using the sum() method. This showed that all of the missing values were solely in the product_name column. When we use a query to see where these missing values are for the product_name column, we see that reside in one specific aisle and department. Aisle with id: 100 and department with id: 21. Next we use the IDs to find out the name of the aisle and department, and the filter returned 'missing' for both columns. Now we want to fill in the missing values in the product_name column with 'Unknown' by using the fillna() method."
   ]
  },
  {
   "cell_type": "markdown",
   "id": "7eb45c86",
   "metadata": {},
   "source": [
    "### `orders` data frame"
   ]
  },
  {
   "cell_type": "code",
   "execution_count": 27,
   "id": "93e41d96",
   "metadata": {},
   "outputs": [
    {
     "data": {
      "text/html": [
       "<div>\n",
       "<style scoped>\n",
       "    .dataframe tbody tr th:only-of-type {\n",
       "        vertical-align: middle;\n",
       "    }\n",
       "\n",
       "    .dataframe tbody tr th {\n",
       "        vertical-align: top;\n",
       "    }\n",
       "\n",
       "    .dataframe thead th {\n",
       "        text-align: right;\n",
       "    }\n",
       "</style>\n",
       "<table border=\"1\" class=\"dataframe\">\n",
       "  <thead>\n",
       "    <tr style=\"text-align: right;\">\n",
       "      <th></th>\n",
       "      <th>order_id</th>\n",
       "      <th>user_id</th>\n",
       "      <th>order_number</th>\n",
       "      <th>order_dow</th>\n",
       "      <th>order_hour_of_day</th>\n",
       "      <th>days_since_prior_order</th>\n",
       "    </tr>\n",
       "  </thead>\n",
       "  <tbody>\n",
       "    <tr>\n",
       "      <th>0</th>\n",
       "      <td>1515936</td>\n",
       "      <td>183418</td>\n",
       "      <td>11</td>\n",
       "      <td>6</td>\n",
       "      <td>13</td>\n",
       "      <td>30.0</td>\n",
       "    </tr>\n",
       "    <tr>\n",
       "      <th>1</th>\n",
       "      <td>1690866</td>\n",
       "      <td>163593</td>\n",
       "      <td>5</td>\n",
       "      <td>5</td>\n",
       "      <td>12</td>\n",
       "      <td>9.0</td>\n",
       "    </tr>\n",
       "    <tr>\n",
       "      <th>2</th>\n",
       "      <td>1454967</td>\n",
       "      <td>39980</td>\n",
       "      <td>4</td>\n",
       "      <td>5</td>\n",
       "      <td>19</td>\n",
       "      <td>2.0</td>\n",
       "    </tr>\n",
       "    <tr>\n",
       "      <th>3</th>\n",
       "      <td>1768857</td>\n",
       "      <td>82516</td>\n",
       "      <td>56</td>\n",
       "      <td>0</td>\n",
       "      <td>20</td>\n",
       "      <td>10.0</td>\n",
       "    </tr>\n",
       "    <tr>\n",
       "      <th>4</th>\n",
       "      <td>3007858</td>\n",
       "      <td>196724</td>\n",
       "      <td>2</td>\n",
       "      <td>4</td>\n",
       "      <td>12</td>\n",
       "      <td>17.0</td>\n",
       "    </tr>\n",
       "  </tbody>\n",
       "</table>\n",
       "</div>"
      ],
      "text/plain": [
       "   order_id  user_id  order_number  order_dow  order_hour_of_day  \\\n",
       "0   1515936   183418            11          6                 13   \n",
       "1   1690866   163593             5          5                 12   \n",
       "2   1454967    39980             4          5                 19   \n",
       "3   1768857    82516            56          0                 20   \n",
       "4   3007858   196724             2          4                 12   \n",
       "\n",
       "   days_since_prior_order  \n",
       "0                    30.0  \n",
       "1                     9.0  \n",
       "2                     2.0  \n",
       "3                    10.0  \n",
       "4                    17.0  "
      ]
     },
     "execution_count": 27,
     "metadata": {},
     "output_type": "execute_result"
    }
   ],
   "source": [
    "df_instacart_orders.head()"
   ]
  },
  {
   "cell_type": "code",
   "execution_count": 28,
   "id": "166e5a86",
   "metadata": {},
   "outputs": [
    {
     "name": "stdout",
     "output_type": "stream",
     "text": [
      "<class 'pandas.core.frame.DataFrame'>\n",
      "Int64Index: 478952 entries, 0 to 478966\n",
      "Data columns (total 6 columns):\n",
      " #   Column                  Non-Null Count   Dtype  \n",
      "---  ------                  --------------   -----  \n",
      " 0   order_id                478952 non-null  int64  \n",
      " 1   user_id                 478952 non-null  int64  \n",
      " 2   order_number            478952 non-null  int64  \n",
      " 3   order_dow               478952 non-null  int64  \n",
      " 4   order_hour_of_day       478952 non-null  int64  \n",
      " 5   days_since_prior_order  450135 non-null  float64\n",
      "dtypes: float64(1), int64(5)\n",
      "memory usage: 25.6 MB\n"
     ]
    }
   ],
   "source": [
    "# Are there any missing values where it's not a customer's first order?\n",
    "df_instacart_orders.query(\"order_number != 0\").info()"
   ]
  },
  {
   "cell_type": "markdown",
   "id": "4e23d089",
   "metadata": {},
   "source": [
    "For the orders dataframe, we check if there are any missing values when the order isn't the customer's first order. We run a query where we are searching for values in the order_number column that are 0, and run the .info() on the query to check and see if we have any missing values. The only non-null count value that differed was in the days_since_prior_order column. Which shows that no values are missing in order_number column after the customer's first order."
   ]
  },
  {
   "cell_type": "markdown",
   "id": "69dc9ca4",
   "metadata": {},
   "source": [
    "### `order_products` data frame"
   ]
  },
  {
   "cell_type": "code",
   "execution_count": 29,
   "id": "b8240253",
   "metadata": {},
   "outputs": [
    {
     "data": {
      "text/html": [
       "<div>\n",
       "<style scoped>\n",
       "    .dataframe tbody tr th:only-of-type {\n",
       "        vertical-align: middle;\n",
       "    }\n",
       "\n",
       "    .dataframe tbody tr th {\n",
       "        vertical-align: top;\n",
       "    }\n",
       "\n",
       "    .dataframe thead th {\n",
       "        text-align: right;\n",
       "    }\n",
       "</style>\n",
       "<table border=\"1\" class=\"dataframe\">\n",
       "  <thead>\n",
       "    <tr style=\"text-align: right;\">\n",
       "      <th></th>\n",
       "      <th>order_id</th>\n",
       "      <th>product_id</th>\n",
       "      <th>add_to_cart_order</th>\n",
       "      <th>reordered</th>\n",
       "    </tr>\n",
       "  </thead>\n",
       "  <tbody>\n",
       "    <tr>\n",
       "      <th>0</th>\n",
       "      <td>2141543</td>\n",
       "      <td>11440</td>\n",
       "      <td>17.0</td>\n",
       "      <td>0</td>\n",
       "    </tr>\n",
       "    <tr>\n",
       "      <th>1</th>\n",
       "      <td>567889</td>\n",
       "      <td>1560</td>\n",
       "      <td>1.0</td>\n",
       "      <td>1</td>\n",
       "    </tr>\n",
       "    <tr>\n",
       "      <th>2</th>\n",
       "      <td>2261212</td>\n",
       "      <td>26683</td>\n",
       "      <td>1.0</td>\n",
       "      <td>1</td>\n",
       "    </tr>\n",
       "    <tr>\n",
       "      <th>3</th>\n",
       "      <td>491251</td>\n",
       "      <td>8670</td>\n",
       "      <td>35.0</td>\n",
       "      <td>1</td>\n",
       "    </tr>\n",
       "    <tr>\n",
       "      <th>4</th>\n",
       "      <td>2571142</td>\n",
       "      <td>1940</td>\n",
       "      <td>5.0</td>\n",
       "      <td>1</td>\n",
       "    </tr>\n",
       "  </tbody>\n",
       "</table>\n",
       "</div>"
      ],
      "text/plain": [
       "   order_id  product_id  add_to_cart_order  reordered\n",
       "0   2141543       11440               17.0          0\n",
       "1    567889        1560                1.0          1\n",
       "2   2261212       26683                1.0          1\n",
       "3    491251        8670               35.0          1\n",
       "4   2571142        1940                5.0          1"
      ]
     },
     "execution_count": 29,
     "metadata": {},
     "output_type": "execute_result"
    }
   ],
   "source": [
    "df_order_products.head()"
   ]
  },
  {
   "cell_type": "code",
   "execution_count": 30,
   "id": "9a78e5ee",
   "metadata": {},
   "outputs": [
    {
     "name": "stdout",
     "output_type": "stream",
     "text": [
      "64.0\n",
      "1.0\n"
     ]
    }
   ],
   "source": [
    "# What are the min and max values in this column?\n",
    "print(df_order_products['add_to_cart_order'].max())\n",
    "print(df_order_products['add_to_cart_order'].min())"
   ]
  },
  {
   "cell_type": "code",
   "execution_count": 31,
   "id": "ab9d0c2b",
   "metadata": {},
   "outputs": [
    {
     "name": "stdout",
     "output_type": "stream",
     "text": [
      "[2449164 1968313 2926893 1717990 1959075  844733   61355  936852  264710\n",
      " 1564093  129627  293169 2849370 1386261 3308010  903110 2136777 3347453\n",
      " 1888628  165801 2094761 1038146 2997021  813364 2256933  171934 2409109\n",
      " 1730767 1169835  733526  404157 3125735  747668 1800005 1961723  871281\n",
      "  388234 1648217 1477139  102236 1021563 1832957 2721963  678116 1220886\n",
      " 1673227 2999801 1633337 2470674 2625444 1677118 2479011 3383594 1183255\n",
      " 1713430 2652650 1598369 1916118  854647 1302315  888470  180546 2621907\n",
      " 1308785 2729254    9310 2170451 2979697 1625713 1529171]\n"
     ]
    }
   ],
   "source": [
    "# Save all order IDs with at least one missing value in 'add_to_cart_order'\n",
    "missing_orders_ids = df_order_products[df_order_products['add_to_cart_order'].isna()]['order_id'].unique()\n",
    "print(missing_orders_ids)"
   ]
  },
  {
   "cell_type": "code",
   "execution_count": 32,
   "id": "54c31695",
   "metadata": {},
   "outputs": [
    {
     "name": "stdout",
     "output_type": "stream",
     "text": [
      "All orders with missing 'add_to_cart_order' have more than 64 products: True\n"
     ]
    }
   ],
   "source": [
    "# Do all orders with missing values have more than 64 products?\n",
    "order_counts = df_order_products.groupby('order_id').size()\n",
    "large_orders = order_counts[order_counts > 64].index.values\n",
    "all_orders_over_64 = all(order_id in large_orders for order_id in missing_orders_ids)\n",
    "print(f\"All orders with missing 'add_to_cart_order' have more than 64 products: {all_orders_over_64}\")"
   ]
  },
  {
   "cell_type": "code",
   "execution_count": 33,
   "id": "7a987d08",
   "metadata": {},
   "outputs": [
    {
     "name": "stdout",
     "output_type": "stream",
     "text": [
      "Order ID 2449164 has 76 products.\n",
      "Order ID 1968313 has 80 products.\n",
      "Order ID 2926893 has 92 products.\n",
      "Order ID 1717990 has 86 products.\n",
      "Order ID 1959075 has 98 products.\n",
      "Order ID 844733 has 77 products.\n",
      "Order ID 61355 has 127 products.\n",
      "Order ID 936852 has 87 products.\n",
      "Order ID 264710 has 91 products.\n",
      "Order ID 1564093 has 69 products.\n",
      "Order ID 129627 has 69 products.\n",
      "Order ID 293169 has 77 products.\n",
      "Order ID 2849370 has 75 products.\n",
      "Order ID 1386261 has 91 products.\n",
      "Order ID 3308010 has 115 products.\n",
      "Order ID 903110 has 74 products.\n",
      "Order ID 2136777 has 108 products.\n",
      "Order ID 3347453 has 71 products.\n",
      "Order ID 1888628 has 74 products.\n",
      "Order ID 165801 has 70 products.\n",
      "Order ID 2094761 has 73 products.\n",
      "Order ID 1038146 has 70 products.\n",
      "Order ID 2997021 has 68 products.\n",
      "Order ID 813364 has 85 products.\n",
      "Order ID 2256933 has 71 products.\n",
      "Order ID 171934 has 104 products.\n",
      "Order ID 2409109 has 69 products.\n",
      "Order ID 1730767 has 95 products.\n",
      "Order ID 1169835 has 69 products.\n",
      "Order ID 733526 has 69 products.\n",
      "Order ID 404157 has 76 products.\n",
      "Order ID 3125735 has 86 products.\n",
      "Order ID 747668 has 65 products.\n",
      "Order ID 1800005 has 92 products.\n",
      "Order ID 1961723 has 73 products.\n",
      "Order ID 871281 has 74 products.\n",
      "Order ID 388234 has 70 products.\n",
      "Order ID 1648217 has 70 products.\n",
      "Order ID 1477139 has 68 products.\n",
      "Order ID 102236 has 95 products.\n",
      "Order ID 1021563 has 73 products.\n",
      "Order ID 1832957 has 78 products.\n",
      "Order ID 2721963 has 86 products.\n",
      "Order ID 678116 has 70 products.\n",
      "Order ID 1220886 has 72 products.\n",
      "Order ID 1673227 has 78 products.\n",
      "Order ID 2999801 has 70 products.\n",
      "Order ID 1633337 has 67 products.\n",
      "Order ID 2470674 has 71 products.\n",
      "Order ID 2625444 has 67 products.\n",
      "Order ID 1677118 has 65 products.\n",
      "Order ID 2479011 has 73 products.\n",
      "Order ID 3383594 has 69 products.\n",
      "Order ID 1183255 has 75 products.\n",
      "Order ID 1713430 has 67 products.\n",
      "Order ID 2652650 has 65 products.\n",
      "Order ID 1598369 has 65 products.\n",
      "Order ID 1916118 has 67 products.\n",
      "Order ID 854647 has 67 products.\n",
      "Order ID 1302315 has 67 products.\n",
      "Order ID 888470 has 65 products.\n",
      "Order ID 180546 has 66 products.\n",
      "Order ID 2621907 has 65 products.\n",
      "Order ID 1308785 has 66 products.\n",
      "Order ID 2729254 has 65 products.\n",
      "Order ID 9310 has 65 products.\n",
      "Order ID 2170451 has 65 products.\n",
      "Order ID 2979697 has 66 products.\n",
      "Order ID 1625713 has 66 products.\n",
      "Order ID 1529171 has 66 products.\n",
      "         order_id  product_id  add_to_cart_order  reordered\n",
      "737       2449164        5068                999          0\n",
      "9926      1968313       43867                999          0\n",
      "14394     2926893       11688                999          0\n",
      "16418     1717990        4142                999          0\n",
      "30114     1959075       42828                999          1\n",
      "...           ...         ...                ...        ...\n",
      "4505662   1800005        7411                999          0\n",
      "4511400   1633337         260                999          0\n",
      "4517562    404157        9517                999          0\n",
      "4534112   1673227       17835                999          0\n",
      "4535739   1832957       17949                999          1\n",
      "\n",
      "[836 rows x 4 columns]\n"
     ]
    }
   ],
   "source": [
    "# Replace missing values with 999 and convert column to integer type\n",
    "for order_id in missing_orders_ids:\n",
    "    product_count = len(df_order_products[df_order_products['order_id'] == order_id])\n",
    "    if product_count > 64:\n",
    "        print(f\"Order ID {order_id} has {product_count} products.\")\n",
    "\n",
    "df_order_products['add_to_cart_order'].fillna(999, inplace=True)\n",
    "df_order_products['add_to_cart_order'] = df_order_products['add_to_cart_order'].astype(int)\n",
    "\n",
    "print(df_order_products.query(\"add_to_cart_order == 999\"))"
   ]
  },
  {
   "cell_type": "markdown",
   "id": "fea4bcc7",
   "metadata": {},
   "source": [
    "For the order_products dataframe,  each row corresponds to one item placed in an order. From here we learned that the max number of items placed in one order was 64 with the minimum being 1. We also found out that the orders with missing values have more than 64 products added to one order. Maybe this is an error in how their software/app is setup. We then replaced all of those missing values with 999 so that it is obvious to someone looking at this data that this row of data has an error or something wrong in it."
   ]
  },
  {
   "cell_type": "markdown",
   "id": "short-capability",
   "metadata": {},
   "source": [
    "### [A1] Verify that the `'order_hour_of_day'` and `'order_dow'` values in the `orders` tables are sensible (i.e. `'order_hour_of_day'` ranges from 0 to 23 and `'order_dow'` ranges from 0 to 6)"
   ]
  },
  {
   "cell_type": "code",
   "execution_count": 34,
   "id": "growing-fruit",
   "metadata": {},
   "outputs": [
    {
     "name": "stdout",
     "output_type": "stream",
     "text": [
      "0\n",
      "23\n"
     ]
    }
   ],
   "source": [
    "print(df_instacart_orders['order_hour_of_day'].min())\n",
    "print(df_instacart_orders['order_hour_of_day'].max())"
   ]
  },
  {
   "cell_type": "code",
   "execution_count": 35,
   "id": "accessory-malaysia",
   "metadata": {},
   "outputs": [
    {
     "name": "stdout",
     "output_type": "stream",
     "text": [
      "0\n",
      "6\n"
     ]
    }
   ],
   "source": [
    "print(df_instacart_orders['order_dow'].min())\n",
    "print(df_instacart_orders['order_dow'].max())\n"
   ]
  },
  {
   "cell_type": "markdown",
   "id": "a6743a70",
   "metadata": {},
   "source": [
    "### [A2] What time of day do people shop for groceries?"
   ]
  },
  {
   "cell_type": "code",
   "execution_count": 36,
   "id": "a36cca27",
   "metadata": {},
   "outputs": [
    {
     "data": {
      "image/png": "[encoded data removed]",
      "text/plain": [
       "<Figure size 720x432 with 1 Axes>"
      ]
     },
     "metadata": {
      "needs_background": "light"
     },
     "output_type": "display_data"
    }
   ],
   "source": [
    "import matplotlib.pyplot as plt\n",
    "\n",
    "# Counts the number of orders for each hour of the day\n",
    "hourly_orders = df_instacart_orders['order_hour_of_day'].value_counts().sort_index()\n",
    "\n",
    "# Plot\n",
    "plt.figure(figsize=(10, 6))\n",
    "hourly_orders.plot(kind='bar')\n",
    "plt.title('Number of Orders Placed at Each Hour of the Day')\n",
    "plt.xlabel('Hour of the Day')\n",
    "plt.ylabel('Number of Orders')\n",
    "plt.xticks(rotation=0)  # This makes the x-axis labels more readable\n",
    "plt.show()"
   ]
  },
  {
   "cell_type": "markdown",
   "id": "11270eed",
   "metadata": {},
   "source": [
    "After running the `min()` and `max()` values on the `order_hour_of_day` and `order_dow `columns, we can safely assume that the values in the orders dataframe are sensible. Since there are 24 hours in a day and 7 days in a week, the  values from 0 to 6 and 0 to 23 make sense for each column.\n",
    "\n",
    "We then create a variable called hourly_orders which counts the number of orders for each day.\n",
    "\n",
    "Next we use a bar plot to see what hours of the day do people shop for the most. The x-axis has ticks with each hour of the day, while the y-axis shows the number of orders made. Here we see that the number of orders in one hour peaks at 10:00 AM and starts to decline again at 5:00PM. We can see that people place most orders between the 9th and 17th hours of the day."
   ]
  },
  {
   "cell_type": "markdown",
   "id": "documented-command",
   "metadata": {},
   "source": [
    "### [A3] What day of the week do people shop for groceries?"
   ]
  },
  {
   "cell_type": "code",
   "execution_count": 37,
   "id": "chief-digit",
   "metadata": {},
   "outputs": [
    {
     "data": {
      "image/png": "[encoded data removed]",
      "text/plain": [
       "<Figure size 720x432 with 1 Axes>"
      ]
     },
     "metadata": {
      "needs_background": "light"
     },
     "output_type": "display_data"
    }
   ],
   "source": [
    "import matplotlib.pyplot as plt\n",
    "# Group the data by 'order_dow' and count the number of orders for each day\n",
    "orders_per_day = df_instacart_orders.groupby('order_dow')['order_id'].count()\n",
    "# Sort the results just in case (this step might be redundant if the data is already sorted)\n",
    "orders_per_day = orders_per_day.sort_index()\n",
    "# Plotting\n",
    "plt.figure(figsize=(10, 6))\n",
    "orders_per_day.plot(kind='bar', color='skyblue')\n",
    "plt.title(\"Number of Orders by Day of Week\")\n",
    "plt.xlabel(\"Day of Week\")\n",
    "plt.ylabel(\"Number of Orders\")\n",
    "plt.xticks(ticks=range(0, 7), labels=['Day 0', 'Day 1', 'Day 2', 'Day 3', 'Day 4', 'Day 5', 'Day 6'], rotation='horizontal')\n",
    "plt.grid(axis='y', linestyle='--')\n",
    "plt.show()"
   ]
  },
  {
   "cell_type": "markdown",
   "id": "dominant-lightning",
   "metadata": {},
   "source": [
    "We want to figure out what day do people shop the most for groceries. We first have to group the data by the `order_dow column`, and then count the number of orders for each day. We then sort each day by the index and plot the data using a bar chart. \n",
    "\n",
    "We can see that `Day 0` is the day that people do most of their shopping with `Day 1` coming in at a very close second place."
   ]
  },
  {
   "cell_type": "markdown",
   "id": "cutting-concert",
   "metadata": {},
   "source": [
    "### [A4] How long do people wait until placing another order?"
   ]
  },
  {
   "cell_type": "code",
   "execution_count": 38,
   "id": "c231f523",
   "metadata": {},
   "outputs": [
    {
     "data": {
      "image/png": "[encoded data removed]",
      "text/plain": [
       "<Figure size 432x288 with 1 Axes>"
      ]
     },
     "metadata": {
      "needs_background": "light"
     },
     "output_type": "display_data"
    }
   ],
   "source": [
    "import matplotlib.pyplot as plt\n",
    "plt.hist(df_instacart_orders['days_since_prior_order'].dropna(), bins=31, edgecolor='k', alpha=0.7)\n",
    "plt.title('Distribution of Days Since Prior Order')\n",
    "plt.xlabel('Days Since Prior Order')\n",
    "plt.ylabel('Frequency')\n",
    "plt.show()"
   ]
  },
  {
   "cell_type": "markdown",
   "id": "discrete-vertex",
   "metadata": {},
   "source": [
    "To figure out how long people wait until placing another order we have to look at the values from the `days_since_prior_order` chart. We remove missing values using the `dropna()` method and set our bins to 31 to make the day readable and more conclusive. We set our x-axis to Days Since Prior Order and the y-axis to Frequency, which counts how many times the days_since_prior_order value occurs.\n",
    "\n",
    "We can conclude that most seperation of days between order placements either occur within 7 days or on an monthly basis (30 days)."
   ]
  },
  {
   "cell_type": "markdown",
   "id": "packed-classic",
   "metadata": {},
   "source": [
    "### [B1] Is there a difference in `'order_hour_of_day'` distributions on Wednesdays and Saturdays? Plot the histograms for both days and describe the differences that you see."
   ]
  },
  {
   "cell_type": "code",
   "execution_count": 39,
   "id": "d89b8403",
   "metadata": {},
   "outputs": [],
   "source": [
    "wednesday_orders = df_instacart_orders[df_instacart_orders['order_dow'] == 3]\n",
    "saturday_orders = df_instacart_orders[df_instacart_orders['order_dow'] == 6]"
   ]
  },
  {
   "cell_type": "code",
   "execution_count": 40,
   "id": "94e54e8a",
   "metadata": {},
   "outputs": [
    {
     "data": {
      "image/png": "[encoded data removed]",
      "text/plain": [
       "<Figure size 720x432 with 1 Axes>"
      ]
     },
     "metadata": {
      "needs_background": "light"
     },
     "output_type": "display_data"
    }
   ],
   "source": [
    "import matplotlib.pyplot as plt\n",
    "# Assuming wednesday_orders and saturday_orders are your filtered DataFrames\n",
    "wednesday_hours = wednesday_orders['order_hour_of_day']\n",
    "saturday_hours = saturday_orders['order_hour_of_day']\n",
    "# Plotting the histograms on the same figure\n",
    "plt.figure(figsize=(10,6))  # Adjust the size as needed\n",
    "plt.hist(wednesday_hours, bins=24, alpha=0.5, label='Wednesday')\n",
    "plt.hist(saturday_hours, bins=24, alpha=0.5, label='Saturday')\n",
    "# Adding labels and title\n",
    "plt.xlabel('Hour of Day')\n",
    "plt.ylabel('Number of Orders')\n",
    "plt.title('Distribution of Order Hours on Wednesday and Saturday')\n",
    "plt.xticks(range(0,24))  # Adjust x-axis ticks\n",
    "# Adding a legend to differentiate the histograms\n",
    "plt.legend()\n",
    "# Displaying the plot\n",
    "plt.show()"
   ]
  },
  {
   "cell_type": "markdown",
   "id": "362d366c",
   "metadata": {},
   "source": [
    "To determine the difference in what hours of the day are customers placing orders most between Wednesday and Saturday, we will first filter the `order_dow` column. We assume that the indices 0-6 coincides with the order of the days of the week, so we set Wednesday as index 3, and Saturday as index 6. \n",
    "\n",
    "We then use those filters and save them in variables to use in a histogram. We see from the histogram that for Saturday most orders are placed in the late morning and afternoon hours between 9-16. While on Wednesdays, orders peak between hours 9-11 and 15-16. \n"
   ]
  },
  {
   "cell_type": "markdown",
   "id": "e3891143",
   "metadata": {},
   "source": [
    "### [B2] What's the distribution for the number of orders per customer?"
   ]
  },
  {
   "cell_type": "code",
   "execution_count": 41,
   "id": "d8c26c23",
   "metadata": {},
   "outputs": [],
   "source": [
    "order_count_per_customer = df_instacart_orders.groupby('user_id')['order_id'].count()"
   ]
  },
  {
   "cell_type": "code",
   "execution_count": 42,
   "id": "00e69a66",
   "metadata": {},
   "outputs": [
    {
     "data": {
      "image/png": "[encoded data removed]",
      "text/plain": [
       "<Figure size 432x288 with 1 Axes>"
      ]
     },
     "metadata": {
      "needs_background": "light"
     },
     "output_type": "display_data"
    }
   ],
   "source": [
    "order_count_per_customer.plot(kind='hist', bins=range(1, order_count_per_customer.max() + 1), edgecolor='black')\n",
    "plt.title('Distribution of Number of Orders Per Customer')\n",
    "plt.xlabel('Number of Orders')\n",
    "plt.ylabel('Number of Customers')\n",
    "plt.xticks(range(1, order_count_per_customer.max() + 1)) # Adjust the ticks to match the number of orders\n",
    "plt.show()"
   ]
  },
  {
   "cell_type": "markdown",
   "id": "d2eff7d5",
   "metadata": {},
   "source": [
    "In order to see the distribution for the number of orders per customer, we will first group by the customer's `user_id` and count the values of how many orders they made by using the `order_id`. This will return each order count per customer. \n",
    "\n",
    "Next we create a histogram that shows how many customers made a specific amount of orders. \n",
    "\n",
    "From the histogram that was created, we can conclude that most instacart customers have made only one order and the number of customers who have made more than 1 order exponentially decreases as you travel along the x axis. "
   ]
  },
  {
   "cell_type": "markdown",
   "id": "54a0319c",
   "metadata": {},
   "source": [
    "### [B3] What are the top 20 popular products (display their id and name)?"
   ]
  },
  {
   "cell_type": "code",
   "execution_count": 43,
   "id": "exterior-arizona",
   "metadata": {
    "scrolled": true
   },
   "outputs": [
    {
     "name": "stdout",
     "output_type": "stream",
     "text": [
      "24852    66050\n",
      "13176    53297\n",
      "21137    37039\n",
      "21903    33971\n",
      "47209    29773\n",
      "47766    24689\n",
      "47626    21495\n",
      "16797    20018\n",
      "26209    19690\n",
      "27845    19600\n",
      "27966    19197\n",
      "22935    15898\n",
      "24964    15292\n",
      "45007    14584\n",
      "39275    13879\n",
      "49683    13675\n",
      "28204    12544\n",
      "5876     12232\n",
      "8277     11993\n",
      "40706    11781\n",
      "Name: product_id, dtype: int64\n"
     ]
    }
   ],
   "source": [
    "product_counts = df_order_products['product_id'].value_counts().head(20)\n",
    "print(product_counts)"
   ]
  },
  {
   "cell_type": "code",
   "execution_count": 44,
   "id": "universal-facial",
   "metadata": {},
   "outputs": [
    {
     "name": "stdout",
     "output_type": "stream",
     "text": [
      "       product_id              product_name  aisle_id  department_id\n",
      "5875         5876             organic lemon        24              4\n",
      "8276         8277  apple honeycrisp organic        24              4\n",
      "13175       13176    bag of organic bananas        24              4\n",
      "16796       16797              strawberries        24              4\n",
      "21136       21137      organic strawberries        24              4\n",
      "21902       21903      organic baby spinach       123              4\n",
      "22934       22935      organic yellow onion        83              4\n",
      "24851       24852                    banana        24              4\n",
      "24963       24964            organic garlic        83              4\n",
      "26208       26209                     limes        24              4\n",
      "27844       27845        organic whole milk        84             16\n",
      "27965       27966       organic raspberries       123              4\n",
      "28203       28204        organic fuji apple        24              4\n",
      "39274       39275       organic blueberries       123              4\n",
      "40705       40706    organic grape tomatoes       123              4\n",
      "45006       45007          organic zucchini        83              4\n",
      "47208       47209      organic hass avocado        24              4\n",
      "47625       47626               large lemon        24              4\n",
      "47765       47766           organic avocado        24              4\n",
      "49682       49683            cucumber kirby        83              4\n"
     ]
    }
   ],
   "source": [
    "top_20_products = df_products.loc[df_products['product_id'].isin(product_counts.index)]\n",
    "print(top_20_products)"
   ]
  },
  {
   "cell_type": "markdown",
   "id": "9cec9ebf",
   "metadata": {},
   "source": [
    "We found the top 20 popular products by filtering on the order_products dataframe's product_id column and applying the value_counts() method and returning the first 20 rows and saving it in a variable called product_counts. \n",
    "\n",
    "Using the .loc() and filtering method isin() we find the names of the top 20 products by indexing the products_counts variable we created.\n",
    "\n"
   ]
  },
  {
   "cell_type": "markdown",
   "id": "romantic-deposit",
   "metadata": {},
   "source": [
    "### [C1] How many items do people typically buy in one order? What does the distribution look like?"
   ]
  },
  {
   "cell_type": "code",
   "execution_count": 45,
   "id": "virtual-punch",
   "metadata": {},
   "outputs": [],
   "source": [
    "import pandas as pd\n"
   ]
  },
  {
   "cell_type": "code",
   "execution_count": 46,
   "id": "sensitive-breathing",
   "metadata": {},
   "outputs": [],
   "source": [
    "import matplotlib.pyplot as plt"
   ]
  },
  {
   "cell_type": "code",
   "execution_count": 47,
   "id": "completed-frank",
   "metadata": {},
   "outputs": [
    {
     "name": "stdout",
     "output_type": "stream",
     "text": [
      "The average number of items per order is: 10.098983215049127\n",
      "The median number of items per order is: 8.0\n"
     ]
    },
    {
     "data": {
      "image/png": "[encoded data removed]",
      "text/plain": [
       "<Figure size 720x432 with 1 Axes>"
      ]
     },
     "metadata": {
      "needs_background": "light"
     },
     "output_type": "display_data"
    }
   ],
   "source": [
    "# Calculate the count of products per order\n",
    "items_per_order = df_order_products.groupby('order_id')['product_id'].count()\n",
    "# Check the average and median number of items per order\n",
    "average_items = items_per_order.mean()\n",
    "median_items = items_per_order.median()\n",
    "print(f\"The average number of items per order is: {average_items}\")\n",
    "print(f\"The median number of items per order is: {median_items}\")\n",
    "# Plot the distribution of items per order\n",
    "plt.figure(figsize=(10, 6))\n",
    "plt.hist(items_per_order, bins=range(1, items_per_order.max() + 1), align='left', edgecolor='black')\n",
    "plt.title('Distribution of Items per Order')\n",
    "plt.xlabel('Number of Items')\n",
    "plt.ylabel('Number of Orders')\n",
    "plt.show()"
   ]
  },
  {
   "cell_type": "markdown",
   "id": "designed-mortality",
   "metadata": {},
   "source": [
    "To determine how many items people typically buy in one order, we first have to count how many products are in each order by grouping the order_products dataframe by the `order_id` column and then counting each `product_id` in each individual order. We then save that count into a variable called items_per_order.\n",
    "\n",
    "We then find the mean and median of the `items_per_order` by using the `mean()` and `median()` methods.\n",
    "\n",
    "To see the distribution on a plot, we use a histogram to check if our mean and median values match with the values returned from our calculations. \n",
    "\n",
    "From the histogram and our calculations, we see that the average number of items in each order is around 10 and the median is 8."
   ]
  },
  {
   "cell_type": "markdown",
   "id": "5e6b5537",
   "metadata": {},
   "source": [
    "### [C2] What are the top 20 items that are reordered most frequently (display their names and product IDs)?"
   ]
  },
  {
   "cell_type": "code",
   "execution_count": 48,
   "id": "9374e55a",
   "metadata": {},
   "outputs": [],
   "source": [
    "import pandas as pd"
   ]
  },
  {
   "cell_type": "code",
   "execution_count": 49,
   "id": "possible-change",
   "metadata": {
    "scrolled": true
   },
   "outputs": [],
   "source": [
    "# Count how often each product has been reordered\n",
    "reordered_counts = df_order_products[df_order_products['reordered'] == 1]['product_id'].value_counts()\n",
    "reordered_counts_df = reordered_counts.reset_index()\n",
    "reordered_counts_df.columns = ['product_id', 'reordered_count']"
   ]
  },
  {
   "cell_type": "code",
   "execution_count": 50,
   "id": "professional-surfing",
   "metadata": {
    "scrolled": true
   },
   "outputs": [],
   "source": [
    "# top 20 most reordered products\n",
    "top_reordered_20 = reordered_counts_df.head(20)"
   ]
  },
  {
   "cell_type": "code",
   "execution_count": 51,
   "id": "48dd3658",
   "metadata": {},
   "outputs": [
    {
     "name": "stdout",
     "output_type": "stream",
     "text": [
      "    product_id  reordered_count              product_name\n",
      "0        24852            55763                    banana\n",
      "1        13176            44450    bag of organic bananas\n",
      "2        21137            28639      organic strawberries\n",
      "3        21903            26233      organic baby spinach\n",
      "4        47209            23629      organic hass avocado\n",
      "5        47766            18743           organic avocado\n",
      "6        27845            16251        organic whole milk\n",
      "7        47626            15044               large lemon\n",
      "8        27966            14748       organic raspberries\n",
      "9        16797            13945              strawberries\n",
      "10       26209            13327                     limes\n",
      "11       22935            11145      organic yellow onion\n",
      "12       24964            10411            organic garlic\n",
      "13       45007            10076          organic zucchini\n",
      "14       49683             9538            cucumber kirby\n",
      "15       28204             8989        organic fuji apple\n",
      "16        8277             8836  apple honeycrisp organic\n",
      "17       39275             8799       organic blueberries\n",
      "18        5876             8412             organic lemon\n",
      "19       49235             8389       organic half & half\n"
     ]
    }
   ],
   "source": [
    "# Merge with the products DataFrame to get product names\n",
    "top_reordered_20 = top_reordered_20.merge(df_products[['product_id', 'product_name']], on='product_id', how='left')\n",
    "print(top_reordered_20)"
   ]
  },
  {
   "cell_type": "markdown",
   "id": "80e70c74",
   "metadata": {},
   "source": [
    "Here we can see that most of the reordered products are organic foods, specifically fruits and vegetables."
   ]
  }
 ],
 "metadata": {
  "kernelspec": {
   "display_name": "Python 3 (ipykernel)",
   "language": "python",
   "name": "python3"
  },
  "language_info": {
   "codemirror_mode": {
    "name": "ipython",
    "version": 3
   },
   "file_extension": ".py",
   "mimetype": "text/x-python",
   "name": "python",
   "nbconvert_exporter": "python",
   "pygments_lexer": "ipython3",
   "version": "3.9.19"
  },
  "toc": {
   "base_numbering": 1,
   "nav_menu": {},
   "number_sections": true,
   "sideBar": true,
   "skip_h1_title": true,
   "title_cell": "Table of Contents",
   "title_sidebar": "Contents",
   "toc_cell": false,
   "toc_position": {},
   "toc_section_display": true,
   "toc_window_display": false
  },
  "vscode": {
   "interpreter": {
    "hash": "01a7be9ec63e704a62cefc5fe7a4756944464ee731be31632bdf42a4cb4688cf"
   }
  }
 },
 "nbformat": 4,
 "nbformat_minor": 5
}
